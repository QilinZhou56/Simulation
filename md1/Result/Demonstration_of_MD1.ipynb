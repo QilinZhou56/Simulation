{
 "cells": [
  {
   "cell_type": "code",
   "execution_count": 7,
   "metadata": {},
   "outputs": [],
   "source": [
    "from queue_class import Queue\n",
    "from customer import Customer\n",
    "import random\n",
    "\n",
    "def simulate_md1(lambd, mu, max_time):\n",
    "\n",
    "    md1 = Queue()\n",
    "\n",
    "    served_customers = []\n",
    "    unserved_customers = []\n",
    "\n",
    "    # Initial conditions\n",
    "    service_time = 1 / mu\n",
    "    next_arrival = random.expovariate(lambd)\n",
    "    next_departure = next_arrival + service_time\n",
    "    cid = 1\n",
    "    \n",
    "    # Record time\n",
    "    t = next_arrival\n",
    "\n",
    "    while t < max_time:\n",
    "\n",
    "        # Process a new arrival\n",
    "        if t == next_arrival:\n",
    "            customer = Customer(cid, arrival_time=t)\n",
    "            customer.departure_time = customer.arrival_time + service_time\n",
    "            cid += 1\n",
    "            md1.enqueue(customer)\n",
    "\n",
    "            print(\"{:10.2f}: Customer {} arrives at {}\".format(t, customer.cid, customer.arrival_time))\n",
    "            next_arrival = t + random.expovariate(lambd)\n",
    "        # Process departure\n",
    "        if t == next_departure:\n",
    "            done_customer = md1.dequeue()\n",
    "            served_customers.append(done_customer)\n",
    "\n",
    "            print(\"{:10.2f}: Customer {} leaves at {}\".format(t, done_customer.cid, \n",
    "                                                           done_customer.departure_time))\n",
    "\n",
    "            # Next departure time\n",
    "            if md1.is_empty():\n",
    "                next_departure = next_arrival + service_time\n",
    "            else:\n",
    "                next_depature = t + service_time\n",
    "\n",
    "        print(\"{:10.2f}: {}\".format(t, \"#\"*md1.length()))\n",
    "        \n",
    "        # Advance to next event\n",
    "        t = min(next_arrival, next_departure)\n",
    "\n",
    "    while not md1.is_empty():\n",
    "        unserved_customers.append(md1.dequeue())\n",
    "\n",
    "    return served_customers, unserved_customers"
   ]
  },
  {
   "cell_type": "code",
   "execution_count": 8,
   "metadata": {},
   "outputs": [
    {
     "name": "stdout",
     "output_type": "stream",
     "text": [
      "      0.10: Customer 1 arrives at 0.10495791404360065\n",
      "      0.10: #\n",
      "      0.51: Customer 2 arrives at 0.509514951787659\n",
      "      0.51: ##\n",
      "      1.49: Customer 3 arrives at 1.4915747122540703\n",
      "      1.49: ###\n",
      "      2.10: Customer 1 leaves at 2.1049579140436006\n",
      "      2.10: ##\n",
      "      2.10: Customer 2 leaves at 2.509514951787659\n",
      "      2.10: #\n",
      "      2.10: Customer 3 leaves at 3.4915747122540703\n",
      "      2.10: \n",
      "      2.31: Customer 4 arrives at 2.3065888389791858\n",
      "      2.31: #\n",
      "      3.18: Customer 5 arrives at 3.1843323219731143\n",
      "      3.18: ##\n",
      "      3.56: Customer 6 arrives at 3.5632014417583893\n",
      "      3.56: ###\n",
      "      4.31: Customer 4 leaves at 4.306588838979186\n",
      "      4.31: ##\n",
      "      4.31: Customer 5 leaves at 5.184332321973114\n",
      "      4.31: #\n",
      "      4.31: Customer 6 leaves at 5.563201441758389\n",
      "      4.31: \n",
      "      4.64: Customer 7 arrives at 4.636228243980239\n",
      "      4.64: #\n",
      "[Customer(1, 0.10495791404360065, 2.1049579140436006), Customer(2, 0.509514951787659, 2.509514951787659), Customer(3, 1.4915747122540703, 3.4915747122540703), Customer(4, 2.3065888389791858, 4.306588838979186), Customer(5, 3.1843323219731143, 5.184332321973114), Customer(6, 3.5632014417583893, 5.563201441758389)]\n",
      "[Customer(7, 4.636228243980239, 6.636228243980239)]\n"
     ]
    }
   ],
   "source": [
    "random.seed(100)\n",
    "served_customers, unserved_customers = simulate_md1(1.5, 1/2, 5)\n",
    "print(served_customers)\n",
    "print(unserved_customers)"
   ]
  }
 ],
 "metadata": {
  "kernelspec": {
   "display_name": "base",
   "language": "python",
   "name": "python3"
  },
  "language_info": {
   "codemirror_mode": {
    "name": "ipython",
    "version": 3
   },
   "file_extension": ".py",
   "mimetype": "text/x-python",
   "name": "python",
   "nbconvert_exporter": "python",
   "pygments_lexer": "ipython3",
   "version": "3.11.5"
  }
 },
 "nbformat": 4,
 "nbformat_minor": 2
}
