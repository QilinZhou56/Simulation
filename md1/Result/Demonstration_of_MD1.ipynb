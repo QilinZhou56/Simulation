{
 "cells": [
  {
   "cell_type": "code",
   "execution_count": 13,
   "metadata": {},
   "outputs": [],
   "source": [
    "from queue_class import Queue\n",
    "from customer import Customer\n",
    "import random\n",
    "\n",
    "def simulate_md1(lambd, mu, max_time):\n",
    "\n",
    "    md1 = Queue()\n",
    "\n",
    "    served_customers = []\n",
    "    unserved_customers = []\n",
    "\n",
    "    # Initial conditions\n",
    "    service_time = 1 / mu\n",
    "    next_arrival = random.expovariate(lambd)\n",
    "    next_departure = next_arrival + service_time\n",
    "    cid = 1\n",
    "    \n",
    "    # Record time\n",
    "    t = next_arrival\n",
    "\n",
    "    while t < max_time:\n",
    "\n",
    "        # Process a new arrival\n",
    "        if t == next_arrival:\n",
    "            customer = Customer(cid, arrival_time=t)\n",
    "            customer.departure_time = customer.arrival_time + service_time\n",
    "            print(customer.departure_time)\n",
    "            cid += 1\n",
    "            md1.enqueue(customer)\n",
    "\n",
    "            print(\"{:10.2f}: Customer {} arrives at {}\".format(t, customer.cid, customer.arrival_time))\n",
    "\n",
    "            next_arrival = t + random.expovariate(lambd)\n",
    "        \n",
    "        # Process departure\n",
    "        if next_arrival == customer.departure_time:\n",
    "            done_customer = md1.dequeue()\n",
    "            served_customers.append(done_customer)\n",
    "\n",
    "            print(\"{:10.2f}: Customer {} leaves at {}\".format(t, done_customer.cid, \n",
    "                                                           done_customer.departure_time))\n",
    "\n",
    "            # Next departure time\n",
    "            if md1.is_empty():\n",
    "                next_departure = next_arrival + service_time\n",
    "            else:\n",
    "                next_depature = t + service_time\n",
    "\n",
    "        # Advance to next event\n",
    "        t = min(next_arrival, next_departure)\n",
    "\n",
    "    while not md1.is_empty():\n",
    "        unserved_customers.append(md1.dequeue())\n",
    "\n",
    "    return served_customers, unserved_customers"
   ]
  },
  {
   "cell_type": "code",
   "execution_count": 20,
   "metadata": {},
   "outputs": [
    {
     "name": "stdout",
     "output_type": "stream",
     "text": [
      "3.705588619533737\n",
      "      1.71: Customer 1 arrives at 1.7055886195337366\n",
      "4.1614571446071595\n",
      "      2.16: Customer 2 arrives at 2.1614571446071595\n"
     ]
    }
   ],
   "source": [
    "simulate_md1(1, 1/5, 10)"
   ]
  }
 ],
 "metadata": {
  "kernelspec": {
   "display_name": "base",
   "language": "python",
   "name": "python3"
  },
  "language_info": {
   "codemirror_mode": {
    "name": "ipython",
    "version": 3
   },
   "file_extension": ".py",
   "mimetype": "text/x-python",
   "name": "python",
   "nbconvert_exporter": "python",
   "pygments_lexer": "ipython3",
   "version": "3.11.5"
  }
 },
 "nbformat": 4,
 "nbformat_minor": 2
}
